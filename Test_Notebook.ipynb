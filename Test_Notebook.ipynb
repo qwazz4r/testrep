{
 "cells": [
  {
   "cell_type": "markdown",
   "id": "b05d59d7-a165-47fc-96e8-69b2ee3f6955",
   "metadata": {},
   "source": [
    "##### 2 - Create a markdown cell with the title of the notebook."
   ]
  },
  {
   "cell_type": "markdown",
   "id": "af3665a6-833c-4d94-b3f9-0a99eb2a70e2",
   "metadata": {},
   "source": [
    "Test_Notebook"
   ]
  },
  {
   "cell_type": "markdown",
   "id": "4cc36981-4e19-47b9-96dd-8c1d49778e9f",
   "metadata": {},
   "source": [
    "##### 3 - Create a markdown cell for an introduction."
   ]
  },
  {
   "cell_type": "markdown",
   "id": "4fa7b3fc-461a-45c0-aef3-8a7b8c1ed852",
   "metadata": {},
   "source": [
    "This is my Notebook for IBM's \"Tools for Data Science\" course on Coursera."
   ]
  },
  {
   "cell_type": "markdown",
   "id": "887689e2-efa0-4730-b9a9-1a1d918c30b0",
   "metadata": {},
   "source": [
    "##### 4 - Create a markdown cell to list data science languages."
   ]
  },
  {
   "cell_type": "markdown",
   "id": "a9a1ed7a-83c0-48ea-b988-b8acb60cfd31",
   "metadata": {},
   "source": [
    "Python, R, SQL, Julia, Java etc"
   ]
  },
  {
   "cell_type": "markdown",
   "id": "5fc4a13c-616d-402e-971d-ad30833b0a2a",
   "metadata": {},
   "source": [
    "##### 5 - Create a markdown cell to list data science libraries."
   ]
  },
  {
   "cell_type": "markdown",
   "id": "fb1b7547-608c-4766-9032-12b7b706b033",
   "metadata": {},
   "source": [
    "Numpy, matplotlib, scikit-learn, pandas, tensorflow etc."
   ]
  },
  {
   "cell_type": "markdown",
   "id": "c4062299-7557-4be3-95e1-1675a8477f20",
   "metadata": {},
   "source": [
    "##### 6 - Create a markdown cell with a table of Data Science tools. "
   ]
  },
  {
   "cell_type": "markdown",
   "id": "303a8dd5-62fe-41ef-ad2c-d117d9dffd2e",
   "metadata": {},
   "source": [
    "RStudio, Apache Spark, Hadoop, Jupyter Notebook/Lab etc."
   ]
  },
  {
   "cell_type": "markdown",
   "id": "0c968734-f371-43e5-a693-016c0322b99e",
   "metadata": {},
   "source": [
    "##### 7 - Create a markdown cell introducing arithmetic expression examples"
   ]
  },
  {
   "cell_type": "markdown",
   "id": "27ba7a25-2431-4b34-995a-d8e3ca07d9a6",
   "metadata": {},
   "source": [
    "3+6=9; \n",
    "12+15=27; \n",
    "1+1=2"
   ]
  },
  {
   "cell_type": "markdown",
   "id": "f0a1c47c-7d91-4d60-aca2-338f56fcabbe",
   "metadata": {},
   "source": [
    "##### 8 - Create a code cell to multiply and add numbers."
   ]
  },
  {
   "cell_type": "code",
   "execution_count": 39,
   "id": "c93c8c48-904b-4438-9458-d2b9854cfc92",
   "metadata": {},
   "outputs": [
    {
     "name": "stdin",
     "output_type": "stream",
     "text": [
      "Enter x: 5\n",
      "Enter y: 4\n"
     ]
    },
    {
     "name": "stdout",
     "output_type": "stream",
     "text": [
      "5*4=20\n",
      "5+4=9\n"
     ]
    }
   ],
   "source": [
    "x=int(input('Enter x:'))\n",
    "y=int(input('Enter y:'))\n",
    "print(f'{x}*{y}={x*y}')\n",
    "print(f'{x}+{y}={x+y}')"
   ]
  },
  {
   "cell_type": "markdown",
   "id": "1f410f44-53a2-4e87-8177-9dd8e4e8d116",
   "metadata": {},
   "source": [
    "##### 9 - Create a code cell to convert minutes to hours"
   ]
  },
  {
   "cell_type": "code",
   "execution_count": 49,
   "id": "d5e63164-0c43-4e33-b3e3-85e7ed753147",
   "metadata": {},
   "outputs": [
    {
     "name": "stdin",
     "output_type": "stream",
     "text": [
      "Enter minutes: 180\n"
     ]
    },
    {
     "name": "stdout",
     "output_type": "stream",
     "text": [
      "3.0 hour(s).\n"
     ]
    }
   ],
   "source": [
    "min=int(input('Enter minutes:'))\n",
    "hours=min/60\n",
    "print(hours, 'hour(s).')"
   ]
  },
  {
   "cell_type": "markdown",
   "id": "7a26d14b-2ff6-44a7-bd43-4bf38ef79d87",
   "metadata": {},
   "source": [
    "##### 10 - Insert a markdown cell to list Objectives."
   ]
  },
  {
   "cell_type": "markdown",
   "id": "862bec03-903c-4408-8634-e5f889e1d66f",
   "metadata": {},
   "source": [
    "## Objectives\n",
    "* ### obj1\n",
    "* ### obj2\n",
    "* ### obj3"
   ]
  },
  {
   "cell_type": "markdown",
   "id": "141580a1-b6bc-4f32-843a-2d35d0bb10a4",
   "metadata": {},
   "source": [
    "##### 11 - Create a markdown cell to indicate the Author’s name."
   ]
  },
  {
   "cell_type": "markdown",
   "id": "cebf15e5-1529-47be-90db-43aa1069343d",
   "metadata": {},
   "source": [
    "My name is Baltaev Ruslan."
   ]
  }
 ],
 "metadata": {
  "kernelspec": {
   "display_name": "Python 3 (ipykernel)",
   "language": "python",
   "name": "python3"
  },
  "language_info": {
   "codemirror_mode": {
    "name": "ipython",
    "version": 3
   },
   "file_extension": ".py",
   "mimetype": "text/x-python",
   "name": "python",
   "nbconvert_exporter": "python",
   "pygments_lexer": "ipython3",
   "version": "3.11.7"
  }
 },
 "nbformat": 4,
 "nbformat_minor": 5
}
